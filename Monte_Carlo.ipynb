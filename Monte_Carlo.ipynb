{
  "nbformat": 4,
  "nbformat_minor": 0,
  "metadata": {
    "colab": {
      "name": "Untitled1.ipynb",
      "provenance": [],
      "collapsed_sections": [],
      "authorship_tag": "ABX9TyNGYvPBo04d7Hm/4WFK5J8g",
      "include_colab_link": true
    },
    "kernelspec": {
      "name": "python3",
      "display_name": "Python 3"
    },
    "language_info": {
      "name": "python"
    }
  },
  "cells": [
    {
      "cell_type": "markdown",
      "metadata": {
        "id": "view-in-github",
        "colab_type": "text"
      },
      "source": [
        "<a href=\"https://colab.research.google.com/github/rodrigotini/poc-otim-vac/blob/main/Monte_Carlo.ipynb\" target=\"_parent\"><img src=\"https://colab.research.google.com/assets/colab-badge.svg\" alt=\"Open In Colab\"/></a>"
      ]
    },
    {
      "cell_type": "code",
      "metadata": {
        "id": "tUFyUj8ogb_L"
      },
      "source": [
        "import  pandas  as  pd \n",
        "import  numpy  as  np \n",
        "import  seaborn  as  sns\n",
        "\n",
        "sns . set_style ( 'whitegrid' )"
      ],
      "execution_count": 1,
      "outputs": []
    },
    {
      "cell_type": "code",
      "metadata": {
        "colab": {
          "base_uri": "https://localhost:8080/"
        },
        "id": "vvlTgIcRge3w",
        "outputId": "e0fb71a3-3a4d-4e10-9a9b-536c9b5b4baa"
      },
      "source": [
        "num_reps = 18\n",
        "qtd_objetivo_lab = [10, 1, 8, 6, 8, 3]  #na seguinte ordem [labX1_vac_A, labX1_vac_B, labX2_vac_A, labX2_vac_C, labX4_vac_A, labX4_vac_E ]\n",
        "perc_objetivo = [.3, .3, .2, .1, .05, .05]\n",
        "qtd_objetivo = np.random.choice(qtd_objetivo_lab, num_reps, p=perc_objetivo)\n",
        "print(qtd_objetivo)"
      ],
      "execution_count": 37,
      "outputs": [
        {
          "output_type": "stream",
          "text": [
            "[ 1 10  1  8 10 10 10  6  6  6  8 10  8 10  1  8  1  1]\n"
          ],
          "name": "stdout"
        }
      ]
    },
    {
      "cell_type": "code",
      "metadata": {
        "id": "yZ-H-bpHjSy9"
      },
      "source": [
        "media = 20\n",
        "desv_padrao = 10\n",
        "num_reps = 18\n",
        "num_simulacoes = 1000"
      ],
      "execution_count": 33,
      "outputs": []
    },
    {
      "cell_type": "code",
      "metadata": {
        "colab": {
          "base_uri": "https://localhost:8080/"
        },
        "id": "pcCN5PE5jaZX",
        "outputId": "2913cda9-a5c7-456f-cc82-dbfee7aca6b2"
      },
      "source": [
        "pct_para_objetivo = np.random.normal(media, desv_padrao, num_reps).round(0)\n",
        "print(pct_para_objetivo)"
      ],
      "execution_count": 36,
      "outputs": [
        {
          "output_type": "stream",
          "text": [
            "[ 4. 46. 25. 26. 37. 28. 33. 27. -2.  7.  3. 39. 14. 32. 26. 34. 18. 29.]\n"
          ],
          "name": "stdout"
        }
      ]
    }
  ]
}